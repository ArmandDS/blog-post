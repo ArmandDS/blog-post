{
  "nbformat": 4,
  "nbformat_minor": 0,
  "metadata": {
    "colab": {
      "provenance": []
    },
    "kernelspec": {
      "name": "python3",
      "display_name": "Python 3"
    },
    "language_info": {
      "name": "python"
    }
  },
  "cells": [
    {
      "cell_type": "markdown",
      "source": [
        "## Notebook form my blog post \"How to write unit test for data science code\"\n",
        "\n",
        "###You can read it [here](https://armandolivares.tech/)"
      ],
      "metadata": {
        "id": "vkdlhnAE7l65"
      }
    },
    {
      "cell_type": "markdown",
      "source": [
        "## Simple Example"
      ],
      "metadata": {
        "id": "rIVB76-n6fv_"
      }
    },
    {
      "cell_type": "code",
      "execution_count": 7,
      "metadata": {
        "id": "IYdFe6qlCVjj"
      },
      "outputs": [],
      "source": [
        "import unittest\n",
        "import pandas as pd\n",
        "import numpy as np\n",
        "from scipy import stats\n",
        "\n",
        "\n",
        "def mean(numbers):\n",
        "    return sum(numbers) / len(numbers)\n",
        "\n",
        "\n",
        "class TestMean(unittest.TestCase):\n",
        "    def test_mean(self):\n",
        "        self.assertEqual(mean([1, 2, 3]), 2)\n",
        "        self.assertEqual(mean([1, 1, 1]), 1)\n",
        "        self.assertEqual(mean([1, 2, 3, 4]), 2.5)\n",
        "\n",
        "\n",
        "#if you will be save the snippet code to a file you need to uncomment the code below:\n",
        "\n",
        "# if __name__ == '__main__':\n",
        "#     unittest.main()\n"
      ]
    },
    {
      "cell_type": "markdown",
      "source": [
        "## Missing Value Example"
      ],
      "metadata": {
        "id": "wGdGQ_rE6zYx"
      }
    },
    {
      "cell_type": "code",
      "source": [
        "def check_missing_values(data):\n",
        "    # Check for missing values in data\n",
        "    missing_values = data.isnull().sum()\n",
        "    return missing_values"
      ],
      "metadata": {
        "id": "EAvEdGY4CdQn"
      },
      "execution_count": 8,
      "outputs": []
    },
    {
      "cell_type": "code",
      "source": [
        "\n",
        "\n",
        "class TestCheckMissingValues(unittest.TestCase):\n",
        "    def test_missing_values(self):\n",
        "        # Create sample dataset\n",
        "        data = pd.DataFrame({'col1': [1, 2, 3], 'col2': [4, None, 6]})\n",
        "        \n",
        "        # Check for missing values\n",
        "        missing_values = check_missing_values(data)\n",
        "        \n",
        "        # Assert that the correct number of missing values is returned\n",
        "        self.assertTrue((missing_values).equals(pd.Series({'col1': 0, 'col2': 1})))\n",
        "\n",
        "\n",
        "#if you will be save the snippet code to a file you need to uncomment the code below:\n",
        "\n",
        "# if __name__ == '__main__':\n",
        "#     unittest.main()\n",
        "\n"
      ],
      "metadata": {
        "id": "C9XXhfdKEZTc"
      },
      "execution_count": 9,
      "outputs": []
    },
    {
      "cell_type": "markdown",
      "source": [
        "## All code EDA example"
      ],
      "metadata": {
        "id": "zoUumndN67DQ"
      }
    },
    {
      "cell_type": "code",
      "source": [
        "\n",
        "\n",
        "class TestDataScienceCode(unittest.TestCase):\n",
        "  def setUp(self):\n",
        "    #define a setUp method that is called before each test method \n",
        "    #self.data = pd.read_csv('data.csv')\n",
        "    self.data = pd.DataFrame(np.random.randint(0, 100, size=(100, 10)), columns=list('ABCDEFGHIJ'))\n",
        "\n",
        "  def test_data_dimensions(self):\n",
        "      #check that the shape of the data is (100, 10)\n",
        "      self.assertEqual(self.data.shape, (100, 10))\n",
        "\n",
        "  def test_data_types(self):\n",
        "      #check that the data types are either int64 or float64\n",
        "      for col in self.data.columns:\n",
        "          self.assertTrue(self.data[col].dtype in [np.int64, np.float64])\n",
        "\n",
        "  def test_missing_values(self):\n",
        "      #check that there are no missing values\n",
        "      self.assertFalse(self.data.isnull().values.any())\n",
        "\n",
        "  def test_numerical_ranges(self):\n",
        "      #method to test the numerical ranges\n",
        "      for col in self.data.columns:\n",
        "          if self.data[col].dtype in [np.int64, np.float64]:\n",
        "              self.assertTrue(self.data[col].min() >= 0)\n",
        "              self.assertTrue(self.data[col].max() <= 100)\n",
        "\n",
        "  def test_column_distributions(self):\n",
        "      #method to test the column distributions\n",
        "      for col in self.data.columns:\n",
        "          if self.data[col].dtype in [np.int64, np.float64]:\n",
        "              self.assertFalse(self.data[col].skew() > 1)\n",
        "              self.assertFalse(self.data[col].kurtosis() > 10)\n",
        "\n",
        "  def test_column_correlations(self):\n",
        "      #method to test the column correlations\n",
        "      corr_matrix = self.data.corr()\n",
        "      for col in self.data.columns:\n",
        "          if self.data[col].dtype in [np.int64, np.float64]:\n",
        "              self.assertTrue(abs(corr_matrix[col].min()) <= 0.5)\n",
        "              self.assertTrue(abs(corr_matrix[col].max()) <= 0.5)\n",
        "\n",
        "  def test_data_normality(self):\n",
        "      #Test to ensure data is normally distributed\n",
        "      for col in self.data.columns:\n",
        "          if self.data[col].dtype in [np.int64, np.float64]:\n",
        "              #calculate the p-value of the Shapiro-Wilk test for each column\n",
        "              _, p_value = stats.shapiro(self.data[col])\n",
        "              self.assertTrue(p_value > 0.05)\n",
        "\n",
        "  def test_summary_statistics(self):\n",
        "      # check that summary statistics are as expected\n",
        "      summary_stats = self.data.describe()\n",
        "      for col in self.data.columns:\n",
        "          if self.data[col].dtype in [np.int64, np.float64]:\n",
        "              #check that the mean of each column is equal to the mean in the summary statistics\n",
        "              self.assertAlmostEqual(self.data[col].mean(), summary_stats[col]['mean'])\n",
        "\n",
        "              #check that the median of each column is equal to the median in the summary statistics\n",
        "              self.assertAlmostEqual(self.data[col].median(), summary_stats[col]['50%'])\n",
        "\n",
        "\n",
        "\n",
        "#if you will be save the snippet code to a file you need to uncomment the code below:\n",
        "\n",
        "# if __name__ == '__main__':\n",
        "#     unittest.main()\n"
      ],
      "metadata": {
        "id": "AFCSpM7sHVLY"
      },
      "execution_count": 10,
      "outputs": []
    },
    {
      "cell_type": "markdown",
      "source": [
        "# To run the test from the notebook:"
      ],
      "metadata": {
        "id": "w1eQcdEU7C6Z"
      }
    },
    {
      "cell_type": "code",
      "source": [
        "\n",
        "#!python -m unittest\n",
        "unittest.main(argv=[''], verbosity=2, exit=False)"
      ],
      "metadata": {
        "colab": {
          "base_uri": "https://localhost:8080/"
        },
        "id": "z9ngrJv6Eg3U",
        "outputId": "ddf643b0-e792-4d88-80b4-57d70a3089a6"
      },
      "execution_count": 12,
      "outputs": [
        {
          "output_type": "stream",
          "name": "stderr",
          "text": [
            "test_missing_values (__main__.TestCheckMissingValues) ... ok\n",
            "test_column_correlations (__main__.TestDataScienceCode) ... FAIL\n",
            "test_column_distributions (__main__.TestDataScienceCode) ... ok\n",
            "test_data_dimensions (__main__.TestDataScienceCode) ... ok\n",
            "test_data_normality (__main__.TestDataScienceCode) ... FAIL\n",
            "test_data_types (__main__.TestDataScienceCode) ... ok\n",
            "test_missing_values (__main__.TestDataScienceCode) ... ok\n",
            "test_numerical_ranges (__main__.TestDataScienceCode) ... ok\n",
            "test_summary_statistics (__main__.TestDataScienceCode) ... ok\n",
            "test_mean (__main__.TestMean) ... ok\n",
            "\n",
            "======================================================================\n",
            "FAIL: test_column_correlations (__main__.TestDataScienceCode)\n",
            "----------------------------------------------------------------------\n",
            "Traceback (most recent call last):\n",
            "  File \"<ipython-input-10-3b10e6dce4e3>\", line 40, in test_column_correlations\n",
            "    self.assertTrue(abs(corr_matrix[col].max()) <= 0.5)\n",
            "AssertionError: False is not true\n",
            "\n",
            "======================================================================\n",
            "FAIL: test_data_normality (__main__.TestDataScienceCode)\n",
            "----------------------------------------------------------------------\n",
            "Traceback (most recent call last):\n",
            "  File \"<ipython-input-10-3b10e6dce4e3>\", line 48, in test_data_normality\n",
            "    self.assertTrue(p_value > 0.05)\n",
            "AssertionError: False is not true\n",
            "\n",
            "----------------------------------------------------------------------\n",
            "Ran 10 tests in 0.107s\n",
            "\n",
            "FAILED (failures=2)\n"
          ]
        },
        {
          "output_type": "execute_result",
          "data": {
            "text/plain": [
              "<unittest.main.TestProgram at 0x7f577aa86ca0>"
            ]
          },
          "metadata": {},
          "execution_count": 12
        }
      ]
    },
    {
      "cell_type": "code",
      "source": [],
      "metadata": {
        "id": "_f0el3wgFFbI"
      },
      "execution_count": 11,
      "outputs": []
    }
  ]
}